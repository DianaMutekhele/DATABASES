{
  "nbformat": 4,
  "nbformat_minor": 0,
  "metadata": {
    "colab": {
      "name": "Copy of Introduction to SQL -Aug 2021.ipynb",
      "provenance": [],
      "include_colab_link": true
    },
    "kernelspec": {
      "display_name": "Python 3",
      "name": "python3"
    }
  },
  "cells": [
    {
      "cell_type": "markdown",
      "metadata": {
        "id": "view-in-github",
        "colab_type": "text"
      },
      "source": [
        "<a href=\"https://colab.research.google.com/github/DianaMutekhele/DATABASES/blob/main/Copy_of_Introduction_to_SQL_Aug_2021.ipynb\" target=\"_parent\"><img src=\"https://colab.research.google.com/assets/colab-badge.svg\" alt=\"Open In Colab\"/></a>"
      ]
    },
    {
      "cell_type": "markdown",
      "metadata": {
        "id": "6pWMnJetMIvW"
      },
      "source": [
        "### **Introduction to SQL Database Commands**"
      ]
    },
    {
      "cell_type": "code",
      "metadata": {
        "colab": {
          "base_uri": "https://localhost:8080/"
        },
        "id": "YBy1PU0xa847",
        "outputId": "191626c3-044d-4d78-bee8-7008394cad38"
      },
      "source": [
        "# installing the sqlite database\n",
        "\n",
        "!pip install db-sqlite3"
      ],
      "execution_count": null,
      "outputs": [
        {
          "output_type": "stream",
          "text": [
            "Collecting db-sqlite3\n",
            "  Downloading db-sqlite3-0.0.1.tar.gz (1.4 kB)\n",
            "Collecting db\n",
            "  Downloading db-0.1.1.tar.gz (3.4 kB)\n",
            "Collecting antiorm\n",
            "  Downloading antiorm-1.2.1.tar.gz (171 kB)\n",
            "\u001b[K     |████████████████████████████████| 171 kB 8.4 MB/s \n",
            "\u001b[?25hBuilding wheels for collected packages: db-sqlite3, db, antiorm\n",
            "  Building wheel for db-sqlite3 (setup.py) ... \u001b[?25l\u001b[?25hdone\n",
            "  Created wheel for db-sqlite3: filename=db_sqlite3-0.0.1-py3-none-any.whl size=1795 sha256=e20f9f0eb33119ef779217628f601ae1218f1c60f1e77e2ce73942ca4c47e8c1\n",
            "  Stored in directory: /root/.cache/pip/wheels/02/38/d5/2f54461050571bf5330fee2a37ab1c9b5e7540b0572f1acdab\n",
            "  Building wheel for db (setup.py) ... \u001b[?25l\u001b[?25hdone\n",
            "  Created wheel for db: filename=db-0.1.1-py3-none-any.whl size=3894 sha256=a70e5c476fcca4eac89bbc5042d13ccc4692a840168fffe93b18130c9642ee1b\n",
            "  Stored in directory: /root/.cache/pip/wheels/8e/97/82/741d2b360507411ec233d0280d7371faa94b03bde834e4a9be\n",
            "  Building wheel for antiorm (setup.py) ... \u001b[?25l\u001b[?25hdone\n",
            "  Created wheel for antiorm: filename=antiorm-1.2.1-py3-none-any.whl size=31678 sha256=c1a956b5bd1f5f30c4c1c1f4033873c7701d4023d6048b7c83dac323d5dedb6e\n",
            "  Stored in directory: /root/.cache/pip/wheels/c5/43/70/e9729370cfff40c49d3e3d05377d54b3ecd71f64e62341ea80\n",
            "Successfully built db-sqlite3 db antiorm\n",
            "Installing collected packages: antiorm, db, db-sqlite3\n",
            "Successfully installed antiorm-1.2.1 db-0.1.1 db-sqlite3-0.0.1\n"
          ],
          "name": "stdout"
        }
      ]
    },
    {
      "cell_type": "code",
      "metadata": {
        "id": "cDpfSAPra89M"
      },
      "source": [
        "# import the required libraries sqlite, pandas, and date time\n",
        "import sqlite3\n",
        "import pandas as pd\n",
        "from datetime import date"
      ],
      "execution_count": null,
      "outputs": []
    },
    {
      "cell_type": "code",
      "metadata": {
        "id": "JYYdjlTEa9BR"
      },
      "source": [
        "#connect with test db\n",
        "\n",
        "db =sqlite3.connect(\"test.db\")\n",
        "\n",
        "# drop the table results if it exist\n",
        "db.execute(\"DROP TABLE IF EXISTS results\")\n",
        "# Define database schema\n",
        "try:\n",
        "  db.execute(\"create table results (Name text, Country text,Date datetime,Phone text, Email text)\")\n",
        "except:\n",
        "  print(\"table already exist\")"
      ],
      "execution_count": null,
      "outputs": []
    },
    {
      "cell_type": "code",
      "metadata": {
        "id": "vSB8E8I7a9E3"
      },
      "source": [
        "# connect again\n",
        "db =sqlite3.connect(\"test.db\")\n"
      ],
      "execution_count": null,
      "outputs": []
    },
    {
      "cell_type": "code",
      "metadata": {
        "id": "FGXaC65Ma9Hu"
      },
      "source": [
        "# Create data\n",
        "\n",
        "Name =\"Maybin Katongo\"\n",
        "Country = \"Zambia\"\n",
        "Date =date.today().strftime(\"%d-%m-%Y\")\n",
        "Phone =\"+26072665545\"\n",
        "Email =\"maybinkatongo@gmail.com\""
      ],
      "execution_count": null,
      "outputs": []
    },
    {
      "cell_type": "code",
      "metadata": {
        "id": "wiSd7AZ0a9K8"
      },
      "source": [
        "cmd = \"insert into results(Name,Country, Phone,Date,Email) values('{}','{}','{}','{}','{}')\".format(Name,Country,Phone,Date,Email)\n",
        "db.execute(cmd)\n",
        "db.commit()\n"
      ],
      "execution_count": null,
      "outputs": []
    },
    {
      "cell_type": "markdown",
      "metadata": {
        "id": "jqc5yuI7l8aN"
      },
      "source": [
        "**Querying**"
      ]
    },
    {
      "cell_type": "code",
      "metadata": {
        "colab": {
          "base_uri": "https://localhost:8080/"
        },
        "id": "X-h8S9BFa9OP",
        "outputId": "ebe2b477-bcea-4c61-e4d1-dfbc0334dedb"
      },
      "source": [
        "# Querying the data in the database using SQL\n",
        "\n",
        "db = sqlite3.connect(\"test.db\")\n",
        "rs = db.execute('SELECT * FROM results')\n",
        "for row in rs:\n",
        "    print (row)"
      ],
      "execution_count": null,
      "outputs": [
        {
          "output_type": "stream",
          "text": [
            "('Maybin Katongo', 'Zambia', '26-08-2021', '+26072665545', 'maybinkatongo@gmail.com')\n"
          ],
          "name": "stdout"
        }
      ]
    },
    {
      "cell_type": "markdown",
      "metadata": {
        "id": "2_XyKGKW6jCj"
      },
      "source": [
        "Add Another Record"
      ]
    },
    {
      "cell_type": "code",
      "metadata": {
        "id": "E8tbUOkV6iGo"
      },
      "source": [
        "# Create data\n",
        "\n",
        "Name =\"Diana Mutekhele\"\n",
        "Country = \"Kenya\"\n",
        "Date =date.today().strftime(\"%d-%m-%Y\")\n",
        "Phone =\"+25472665545\"\n",
        "Email =\"dianamutekhele@gmail.com\"\n",
        "\n",
        "\n",
        "cmd = \"insert into results(Name,Country, Phone,Date,Email) values('{}','{}','{}','{}','{}')\".format(Name,Country,Phone,Date,Email)\n",
        "db.execute(cmd)\n",
        "db.commit()"
      ],
      "execution_count": null,
      "outputs": []
    },
    {
      "cell_type": "code",
      "metadata": {
        "id": "zvihO772GWk7"
      },
      "source": [
        "# Create data\n",
        "\n",
        "Name =\"David Agbi\"\n",
        "Country = \"Nigeria\"\n",
        "Date =date.today().strftime(\"%d-%m-%Y\")\n",
        "Phone =\"+23472665545\"\n",
        "Email =\"davidagbi@gmail.com\"\n",
        "\n",
        "\n",
        "cmd = \"insert into results(Name,Country, Phone,Date,Email) values('{}','{}','{}','{}','{}')\".format(Name,Country,Phone,Date,Email)\n",
        "db.execute(cmd)\n",
        "db.commit()"
      ],
      "execution_count": null,
      "outputs": []
    },
    {
      "cell_type": "code",
      "metadata": {
        "id": "Q70er7exNZMN"
      },
      "source": [
        "cmd = 'UPDATE results  SET \"Country\" = \"Uganda\" WHERE \"Country\" =\"Kenya\" '\n",
        "db.execute(cmd)\n",
        "db.commit()"
      ],
      "execution_count": null,
      "outputs": []
    },
    {
      "cell_type": "code",
      "metadata": {
        "colab": {
          "base_uri": "https://localhost:8080/"
        },
        "id": "stk5zsPRGu87",
        "outputId": "8f412bfe-235d-408c-cb9b-121f6fcd9bca"
      },
      "source": [
        "# Querying the data in the database using SQL\n",
        "\n",
        "db = sqlite3.connect(\"test.db\")\n",
        "rs = db.execute('SELECT * FROM results WHERE \"Country\" = \"Uganda\"')\n",
        "for row in rs:\n",
        "    print (row)"
      ],
      "execution_count": null,
      "outputs": [
        {
          "output_type": "stream",
          "text": [
            "('Diana Mutekhele', 'Uganda', '26-08-2021', '+25472665545', 'dianamutekhele@gmail.com')\n"
          ],
          "name": "stdout"
        }
      ]
    },
    {
      "cell_type": "code",
      "metadata": {
        "colab": {
          "base_uri": "https://localhost:8080/",
          "height": 141
        },
        "id": "brWr388Aa9US",
        "outputId": "5672011e-a83e-4af8-f91b-f8732710cd67"
      },
      "source": [
        "# reading the dataset into pandas for more downstream operations\n",
        "\n",
        "db = sqlite3.connect(\"test.db\")\n",
        "qry = \"\"\"\n",
        "\n",
        "SELECT * FROM results \n",
        "\n",
        "\"\"\"\n",
        "df = pd.read_sql_query(qry, db)\n",
        "\n",
        "df.head()"
      ],
      "execution_count": null,
      "outputs": [
        {
          "output_type": "execute_result",
          "data": {
            "text/html": [
              "<div>\n",
              "<style scoped>\n",
              "    .dataframe tbody tr th:only-of-type {\n",
              "        vertical-align: middle;\n",
              "    }\n",
              "\n",
              "    .dataframe tbody tr th {\n",
              "        vertical-align: top;\n",
              "    }\n",
              "\n",
              "    .dataframe thead th {\n",
              "        text-align: right;\n",
              "    }\n",
              "</style>\n",
              "<table border=\"1\" class=\"dataframe\">\n",
              "  <thead>\n",
              "    <tr style=\"text-align: right;\">\n",
              "      <th></th>\n",
              "      <th>Name</th>\n",
              "      <th>Country</th>\n",
              "      <th>Date</th>\n",
              "      <th>Phone</th>\n",
              "      <th>Email</th>\n",
              "    </tr>\n",
              "  </thead>\n",
              "  <tbody>\n",
              "    <tr>\n",
              "      <th>0</th>\n",
              "      <td>Maybin Katongo</td>\n",
              "      <td>Zambia</td>\n",
              "      <td>26-08-2021</td>\n",
              "      <td>+26072665545</td>\n",
              "      <td>maybinkatongo@gmail.com</td>\n",
              "    </tr>\n",
              "    <tr>\n",
              "      <th>1</th>\n",
              "      <td>Diana Mutekhele</td>\n",
              "      <td>Uganda</td>\n",
              "      <td>26-08-2021</td>\n",
              "      <td>+25472665545</td>\n",
              "      <td>dianamutekhele@gmail.com</td>\n",
              "    </tr>\n",
              "    <tr>\n",
              "      <th>2</th>\n",
              "      <td>David Agbi</td>\n",
              "      <td>Nigeria</td>\n",
              "      <td>26-08-2021</td>\n",
              "      <td>+23472665545</td>\n",
              "      <td>davidagbi@gmail.com</td>\n",
              "    </tr>\n",
              "  </tbody>\n",
              "</table>\n",
              "</div>"
            ],
            "text/plain": [
              "              Name  Country        Date         Phone                     Email\n",
              "0   Maybin Katongo   Zambia  26-08-2021  +26072665545   maybinkatongo@gmail.com\n",
              "1  Diana Mutekhele   Uganda  26-08-2021  +25472665545  dianamutekhele@gmail.com\n",
              "2       David Agbi  Nigeria  26-08-2021  +23472665545       davidagbi@gmail.com"
            ]
          },
          "metadata": {},
          "execution_count": 13
        }
      ]
    },
    {
      "cell_type": "code",
      "metadata": {
        "colab": {
          "base_uri": "https://localhost:8080/",
          "height": 78
        },
        "id": "_kKuMcUNMLfz",
        "outputId": "254b456e-874d-4a90-d28b-89a395649e34"
      },
      "source": [
        "df = pd.read_sql_query('SELECT * FROM results WHERE \"Country\" LIKE \"U%\"', db)\n",
        "df"
      ],
      "execution_count": null,
      "outputs": [
        {
          "output_type": "execute_result",
          "data": {
            "text/html": [
              "<div>\n",
              "<style scoped>\n",
              "    .dataframe tbody tr th:only-of-type {\n",
              "        vertical-align: middle;\n",
              "    }\n",
              "\n",
              "    .dataframe tbody tr th {\n",
              "        vertical-align: top;\n",
              "    }\n",
              "\n",
              "    .dataframe thead th {\n",
              "        text-align: right;\n",
              "    }\n",
              "</style>\n",
              "<table border=\"1\" class=\"dataframe\">\n",
              "  <thead>\n",
              "    <tr style=\"text-align: right;\">\n",
              "      <th></th>\n",
              "      <th>Name</th>\n",
              "      <th>Country</th>\n",
              "      <th>Date</th>\n",
              "      <th>Phone</th>\n",
              "      <th>Email</th>\n",
              "    </tr>\n",
              "  </thead>\n",
              "  <tbody>\n",
              "    <tr>\n",
              "      <th>0</th>\n",
              "      <td>Diana Mutekhele</td>\n",
              "      <td>Uganda</td>\n",
              "      <td>26-08-2021</td>\n",
              "      <td>+25472665545</td>\n",
              "      <td>dianamutekhele@gmail.com</td>\n",
              "    </tr>\n",
              "  </tbody>\n",
              "</table>\n",
              "</div>"
            ],
            "text/plain": [
              "              Name Country        Date         Phone                     Email\n",
              "0  Diana Mutekhele  Uganda  26-08-2021  +25472665545  dianamutekhele@gmail.com"
            ]
          },
          "metadata": {},
          "execution_count": 14
        }
      ]
    },
    {
      "cell_type": "markdown",
      "metadata": {
        "id": "mbmn1CtKaoOK"
      },
      "source": [
        "## Use pandas to write table into a database"
      ]
    },
    {
      "cell_type": "code",
      "metadata": {
        "colab": {
          "base_uri": "https://localhost:8080/"
        },
        "id": "mblq-RaiaswS",
        "outputId": "fae2af73-baca-468f-fc31-2c1f38b5c6e8"
      },
      "source": [
        "california_housing_test = pd.read_csv('sample_data/california_housing_test.csv')\n",
        "california_housing_test.shape"
      ],
      "execution_count": null,
      "outputs": [
        {
          "output_type": "execute_result",
          "data": {
            "text/plain": [
              "(3000, 9)"
            ]
          },
          "metadata": {},
          "execution_count": 15
        }
      ]
    },
    {
      "cell_type": "code",
      "metadata": {
        "colab": {
          "base_uri": "https://localhost:8080/",
          "height": 263
        },
        "id": "gWn9aEiUbTGP",
        "outputId": "d9a8f98c-e35c-4f56-c349-b0406a03d7dc"
      },
      "source": [
        "california_housing_test.head(7)"
      ],
      "execution_count": null,
      "outputs": [
        {
          "output_type": "execute_result",
          "data": {
            "text/html": [
              "<div>\n",
              "<style scoped>\n",
              "    .dataframe tbody tr th:only-of-type {\n",
              "        vertical-align: middle;\n",
              "    }\n",
              "\n",
              "    .dataframe tbody tr th {\n",
              "        vertical-align: top;\n",
              "    }\n",
              "\n",
              "    .dataframe thead th {\n",
              "        text-align: right;\n",
              "    }\n",
              "</style>\n",
              "<table border=\"1\" class=\"dataframe\">\n",
              "  <thead>\n",
              "    <tr style=\"text-align: right;\">\n",
              "      <th></th>\n",
              "      <th>longitude</th>\n",
              "      <th>latitude</th>\n",
              "      <th>housing_median_age</th>\n",
              "      <th>total_rooms</th>\n",
              "      <th>total_bedrooms</th>\n",
              "      <th>population</th>\n",
              "      <th>households</th>\n",
              "      <th>median_income</th>\n",
              "      <th>median_house_value</th>\n",
              "    </tr>\n",
              "  </thead>\n",
              "  <tbody>\n",
              "    <tr>\n",
              "      <th>0</th>\n",
              "      <td>-122.05</td>\n",
              "      <td>37.37</td>\n",
              "      <td>27.0</td>\n",
              "      <td>3885.0</td>\n",
              "      <td>661.0</td>\n",
              "      <td>1537.0</td>\n",
              "      <td>606.0</td>\n",
              "      <td>6.6085</td>\n",
              "      <td>344700.0</td>\n",
              "    </tr>\n",
              "    <tr>\n",
              "      <th>1</th>\n",
              "      <td>-118.30</td>\n",
              "      <td>34.26</td>\n",
              "      <td>43.0</td>\n",
              "      <td>1510.0</td>\n",
              "      <td>310.0</td>\n",
              "      <td>809.0</td>\n",
              "      <td>277.0</td>\n",
              "      <td>3.5990</td>\n",
              "      <td>176500.0</td>\n",
              "    </tr>\n",
              "    <tr>\n",
              "      <th>2</th>\n",
              "      <td>-117.81</td>\n",
              "      <td>33.78</td>\n",
              "      <td>27.0</td>\n",
              "      <td>3589.0</td>\n",
              "      <td>507.0</td>\n",
              "      <td>1484.0</td>\n",
              "      <td>495.0</td>\n",
              "      <td>5.7934</td>\n",
              "      <td>270500.0</td>\n",
              "    </tr>\n",
              "    <tr>\n",
              "      <th>3</th>\n",
              "      <td>-118.36</td>\n",
              "      <td>33.82</td>\n",
              "      <td>28.0</td>\n",
              "      <td>67.0</td>\n",
              "      <td>15.0</td>\n",
              "      <td>49.0</td>\n",
              "      <td>11.0</td>\n",
              "      <td>6.1359</td>\n",
              "      <td>330000.0</td>\n",
              "    </tr>\n",
              "    <tr>\n",
              "      <th>4</th>\n",
              "      <td>-119.67</td>\n",
              "      <td>36.33</td>\n",
              "      <td>19.0</td>\n",
              "      <td>1241.0</td>\n",
              "      <td>244.0</td>\n",
              "      <td>850.0</td>\n",
              "      <td>237.0</td>\n",
              "      <td>2.9375</td>\n",
              "      <td>81700.0</td>\n",
              "    </tr>\n",
              "    <tr>\n",
              "      <th>5</th>\n",
              "      <td>-119.56</td>\n",
              "      <td>36.51</td>\n",
              "      <td>37.0</td>\n",
              "      <td>1018.0</td>\n",
              "      <td>213.0</td>\n",
              "      <td>663.0</td>\n",
              "      <td>204.0</td>\n",
              "      <td>1.6635</td>\n",
              "      <td>67000.0</td>\n",
              "    </tr>\n",
              "    <tr>\n",
              "      <th>6</th>\n",
              "      <td>-121.43</td>\n",
              "      <td>38.63</td>\n",
              "      <td>43.0</td>\n",
              "      <td>1009.0</td>\n",
              "      <td>225.0</td>\n",
              "      <td>604.0</td>\n",
              "      <td>218.0</td>\n",
              "      <td>1.6641</td>\n",
              "      <td>67000.0</td>\n",
              "    </tr>\n",
              "  </tbody>\n",
              "</table>\n",
              "</div>"
            ],
            "text/plain": [
              "   longitude  latitude  ...  median_income  median_house_value\n",
              "0    -122.05     37.37  ...         6.6085            344700.0\n",
              "1    -118.30     34.26  ...         3.5990            176500.0\n",
              "2    -117.81     33.78  ...         5.7934            270500.0\n",
              "3    -118.36     33.82  ...         6.1359            330000.0\n",
              "4    -119.67     36.33  ...         2.9375             81700.0\n",
              "5    -119.56     36.51  ...         1.6635             67000.0\n",
              "6    -121.43     38.63  ...         1.6641             67000.0\n",
              "\n",
              "[7 rows x 9 columns]"
            ]
          },
          "metadata": {},
          "execution_count": 17
        }
      ]
    },
    {
      "cell_type": "code",
      "metadata": {
        "colab": {
          "base_uri": "https://localhost:8080/"
        },
        "id": "DBcby9OSIqHq",
        "outputId": "761a36d1-ce7f-46f7-a997-7d21a7dbe685"
      },
      "source": [
        "california_housing_test.columns"
      ],
      "execution_count": null,
      "outputs": [
        {
          "output_type": "execute_result",
          "data": {
            "text/plain": [
              "Index(['longitude', 'latitude', 'housing_median_age', 'total_rooms',\n",
              "       'total_bedrooms', 'population', 'households', 'median_income',\n",
              "       'median_house_value'],\n",
              "      dtype='object')"
            ]
          },
          "metadata": {},
          "execution_count": 18
        }
      ]
    },
    {
      "cell_type": "code",
      "metadata": {
        "colab": {
          "base_uri": "https://localhost:8080/"
        },
        "id": "kPtbOyBHJYxk",
        "outputId": "d43dd769-27b1-42b5-f163-e60f88d4adf0"
      },
      "source": [
        "db.execute(\"DROP TABLE IF EXISTS california_housing_test\")"
      ],
      "execution_count": null,
      "outputs": [
        {
          "output_type": "execute_result",
          "data": {
            "text/plain": [
              "<sqlite3.Cursor at 0x7f362bbc35e0>"
            ]
          },
          "metadata": {},
          "execution_count": 25
        }
      ]
    },
    {
      "cell_type": "code",
      "metadata": {
        "id": "jhoB5-MUbW7g"
      },
      "source": [
        "#Write the california_housing_test data frame into the database using pandas function to_sql\n",
        "california_housing_test.to_sql('california_housing_test', con=db, if_exists='replace', index = False)"
      ],
      "execution_count": null,
      "outputs": []
    },
    {
      "cell_type": "markdown",
      "metadata": {
        "id": "RY361hSLcLB1"
      },
      "source": [
        "Read the database table into Python using *pd.read_sql_query* function"
      ]
    },
    {
      "cell_type": "code",
      "metadata": {
        "colab": {
          "base_uri": "https://localhost:8080/",
          "height": 188
        },
        "id": "K6RG-KdVccx2",
        "outputId": "aa555146-c9a6-4ad8-b173-7860481b2b60"
      },
      "source": [
        "california_housing_test_1 = pd.read_sql_query(\n",
        "    'SELECT * FROM california_housing_test WHERE (housing_median_age >30 AND total_rooms >1500)',\n",
        "     db)\n",
        "print(california_housing_test_1.shape)\n",
        "california_housing_test_1.head(4)"
      ],
      "execution_count": null,
      "outputs": [
        {
          "output_type": "stream",
          "text": [
            "(851, 9)\n"
          ],
          "name": "stdout"
        },
        {
          "output_type": "execute_result",
          "data": {
            "text/html": [
              "<div>\n",
              "<style scoped>\n",
              "    .dataframe tbody tr th:only-of-type {\n",
              "        vertical-align: middle;\n",
              "    }\n",
              "\n",
              "    .dataframe tbody tr th {\n",
              "        vertical-align: top;\n",
              "    }\n",
              "\n",
              "    .dataframe thead th {\n",
              "        text-align: right;\n",
              "    }\n",
              "</style>\n",
              "<table border=\"1\" class=\"dataframe\">\n",
              "  <thead>\n",
              "    <tr style=\"text-align: right;\">\n",
              "      <th></th>\n",
              "      <th>longitude</th>\n",
              "      <th>latitude</th>\n",
              "      <th>housing_median_age</th>\n",
              "      <th>total_rooms</th>\n",
              "      <th>total_bedrooms</th>\n",
              "      <th>population</th>\n",
              "      <th>households</th>\n",
              "      <th>median_income</th>\n",
              "      <th>median_house_value</th>\n",
              "    </tr>\n",
              "  </thead>\n",
              "  <tbody>\n",
              "    <tr>\n",
              "      <th>0</th>\n",
              "      <td>-118.30</td>\n",
              "      <td>34.26</td>\n",
              "      <td>43.0</td>\n",
              "      <td>1510.0</td>\n",
              "      <td>310.0</td>\n",
              "      <td>809.0</td>\n",
              "      <td>277.0</td>\n",
              "      <td>3.5990</td>\n",
              "      <td>176500.0</td>\n",
              "    </tr>\n",
              "    <tr>\n",
              "      <th>1</th>\n",
              "      <td>-118.02</td>\n",
              "      <td>34.08</td>\n",
              "      <td>31.0</td>\n",
              "      <td>2402.0</td>\n",
              "      <td>632.0</td>\n",
              "      <td>2830.0</td>\n",
              "      <td>603.0</td>\n",
              "      <td>2.3333</td>\n",
              "      <td>164200.0</td>\n",
              "    </tr>\n",
              "    <tr>\n",
              "      <th>2</th>\n",
              "      <td>-122.59</td>\n",
              "      <td>38.01</td>\n",
              "      <td>35.0</td>\n",
              "      <td>8814.0</td>\n",
              "      <td>1307.0</td>\n",
              "      <td>3450.0</td>\n",
              "      <td>1258.0</td>\n",
              "      <td>6.1724</td>\n",
              "      <td>414300.0</td>\n",
              "    </tr>\n",
              "    <tr>\n",
              "      <th>3</th>\n",
              "      <td>-121.37</td>\n",
              "      <td>38.68</td>\n",
              "      <td>36.0</td>\n",
              "      <td>1775.0</td>\n",
              "      <td>296.0</td>\n",
              "      <td>937.0</td>\n",
              "      <td>305.0</td>\n",
              "      <td>3.1786</td>\n",
              "      <td>83400.0</td>\n",
              "    </tr>\n",
              "  </tbody>\n",
              "</table>\n",
              "</div>"
            ],
            "text/plain": [
              "   longitude  latitude  ...  median_income  median_house_value\n",
              "0    -118.30     34.26  ...         3.5990            176500.0\n",
              "1    -118.02     34.08  ...         2.3333            164200.0\n",
              "2    -122.59     38.01  ...         6.1724            414300.0\n",
              "3    -121.37     38.68  ...         3.1786             83400.0\n",
              "\n",
              "[4 rows x 9 columns]"
            ]
          },
          "metadata": {},
          "execution_count": 22
        }
      ]
    },
    {
      "cell_type": "markdown",
      "metadata": {
        "id": "yrr3E3U17T3Z"
      },
      "source": [
        "Select data from a database table on condition using WHERE command"
      ]
    },
    {
      "cell_type": "code",
      "metadata": {
        "colab": {
          "base_uri": "https://localhost:8080/",
          "height": 416
        },
        "id": "zHBaXSLg7THs",
        "outputId": "122282c1-171b-4987-d7e8-52384237cd3c"
      },
      "source": [
        "california_median_age_greater_than_30 = pd.read_sql_query('SELECT * FROM california_housing_test WHERE housing_median_age > 30', db)\n",
        "california_median_age_greater_than_30.head(12)"
      ],
      "execution_count": null,
      "outputs": [
        {
          "output_type": "execute_result",
          "data": {
            "text/html": [
              "<div>\n",
              "<style scoped>\n",
              "    .dataframe tbody tr th:only-of-type {\n",
              "        vertical-align: middle;\n",
              "    }\n",
              "\n",
              "    .dataframe tbody tr th {\n",
              "        vertical-align: top;\n",
              "    }\n",
              "\n",
              "    .dataframe thead th {\n",
              "        text-align: right;\n",
              "    }\n",
              "</style>\n",
              "<table border=\"1\" class=\"dataframe\">\n",
              "  <thead>\n",
              "    <tr style=\"text-align: right;\">\n",
              "      <th></th>\n",
              "      <th>longitude</th>\n",
              "      <th>latitude</th>\n",
              "      <th>housing_median_age</th>\n",
              "      <th>total_rooms</th>\n",
              "      <th>total_bedrooms</th>\n",
              "      <th>population</th>\n",
              "      <th>households</th>\n",
              "      <th>median_income</th>\n",
              "      <th>median_house_value</th>\n",
              "    </tr>\n",
              "  </thead>\n",
              "  <tbody>\n",
              "    <tr>\n",
              "      <th>0</th>\n",
              "      <td>-118.30</td>\n",
              "      <td>34.26</td>\n",
              "      <td>43.0</td>\n",
              "      <td>1510.0</td>\n",
              "      <td>310.0</td>\n",
              "      <td>809.0</td>\n",
              "      <td>277.0</td>\n",
              "      <td>3.5990</td>\n",
              "      <td>176500.0</td>\n",
              "    </tr>\n",
              "    <tr>\n",
              "      <th>1</th>\n",
              "      <td>-119.56</td>\n",
              "      <td>36.51</td>\n",
              "      <td>37.0</td>\n",
              "      <td>1018.0</td>\n",
              "      <td>213.0</td>\n",
              "      <td>663.0</td>\n",
              "      <td>204.0</td>\n",
              "      <td>1.6635</td>\n",
              "      <td>67000.0</td>\n",
              "    </tr>\n",
              "    <tr>\n",
              "      <th>2</th>\n",
              "      <td>-121.43</td>\n",
              "      <td>38.63</td>\n",
              "      <td>43.0</td>\n",
              "      <td>1009.0</td>\n",
              "      <td>225.0</td>\n",
              "      <td>604.0</td>\n",
              "      <td>218.0</td>\n",
              "      <td>1.6641</td>\n",
              "      <td>67000.0</td>\n",
              "    </tr>\n",
              "    <tr>\n",
              "      <th>3</th>\n",
              "      <td>-118.02</td>\n",
              "      <td>34.08</td>\n",
              "      <td>31.0</td>\n",
              "      <td>2402.0</td>\n",
              "      <td>632.0</td>\n",
              "      <td>2830.0</td>\n",
              "      <td>603.0</td>\n",
              "      <td>2.3333</td>\n",
              "      <td>164200.0</td>\n",
              "    </tr>\n",
              "    <tr>\n",
              "      <th>4</th>\n",
              "      <td>-118.24</td>\n",
              "      <td>33.98</td>\n",
              "      <td>45.0</td>\n",
              "      <td>972.0</td>\n",
              "      <td>249.0</td>\n",
              "      <td>1288.0</td>\n",
              "      <td>261.0</td>\n",
              "      <td>2.2054</td>\n",
              "      <td>125000.0</td>\n",
              "    </tr>\n",
              "    <tr>\n",
              "      <th>5</th>\n",
              "      <td>-119.12</td>\n",
              "      <td>35.85</td>\n",
              "      <td>37.0</td>\n",
              "      <td>736.0</td>\n",
              "      <td>166.0</td>\n",
              "      <td>564.0</td>\n",
              "      <td>138.0</td>\n",
              "      <td>2.4167</td>\n",
              "      <td>58300.0</td>\n",
              "    </tr>\n",
              "    <tr>\n",
              "      <th>6</th>\n",
              "      <td>-121.93</td>\n",
              "      <td>37.25</td>\n",
              "      <td>36.0</td>\n",
              "      <td>1089.0</td>\n",
              "      <td>182.0</td>\n",
              "      <td>535.0</td>\n",
              "      <td>170.0</td>\n",
              "      <td>4.6900</td>\n",
              "      <td>252600.0</td>\n",
              "    </tr>\n",
              "    <tr>\n",
              "      <th>7</th>\n",
              "      <td>-117.99</td>\n",
              "      <td>33.81</td>\n",
              "      <td>42.0</td>\n",
              "      <td>161.0</td>\n",
              "      <td>40.0</td>\n",
              "      <td>157.0</td>\n",
              "      <td>50.0</td>\n",
              "      <td>2.2000</td>\n",
              "      <td>153100.0</td>\n",
              "    </tr>\n",
              "    <tr>\n",
              "      <th>8</th>\n",
              "      <td>-122.59</td>\n",
              "      <td>38.01</td>\n",
              "      <td>35.0</td>\n",
              "      <td>8814.0</td>\n",
              "      <td>1307.0</td>\n",
              "      <td>3450.0</td>\n",
              "      <td>1258.0</td>\n",
              "      <td>6.1724</td>\n",
              "      <td>414300.0</td>\n",
              "    </tr>\n",
              "    <tr>\n",
              "      <th>9</th>\n",
              "      <td>-122.15</td>\n",
              "      <td>37.75</td>\n",
              "      <td>40.0</td>\n",
              "      <td>1445.0</td>\n",
              "      <td>256.0</td>\n",
              "      <td>849.0</td>\n",
              "      <td>255.0</td>\n",
              "      <td>3.8913</td>\n",
              "      <td>126300.0</td>\n",
              "    </tr>\n",
              "    <tr>\n",
              "      <th>10</th>\n",
              "      <td>-121.37</td>\n",
              "      <td>38.68</td>\n",
              "      <td>36.0</td>\n",
              "      <td>1775.0</td>\n",
              "      <td>296.0</td>\n",
              "      <td>937.0</td>\n",
              "      <td>305.0</td>\n",
              "      <td>3.1786</td>\n",
              "      <td>83400.0</td>\n",
              "    </tr>\n",
              "    <tr>\n",
              "      <th>11</th>\n",
              "      <td>-118.16</td>\n",
              "      <td>34.07</td>\n",
              "      <td>47.0</td>\n",
              "      <td>2994.0</td>\n",
              "      <td>543.0</td>\n",
              "      <td>1651.0</td>\n",
              "      <td>561.0</td>\n",
              "      <td>3.8644</td>\n",
              "      <td>241500.0</td>\n",
              "    </tr>\n",
              "  </tbody>\n",
              "</table>\n",
              "</div>"
            ],
            "text/plain": [
              "    longitude  latitude  ...  median_income  median_house_value\n",
              "0     -118.30     34.26  ...         3.5990            176500.0\n",
              "1     -119.56     36.51  ...         1.6635             67000.0\n",
              "2     -121.43     38.63  ...         1.6641             67000.0\n",
              "3     -118.02     34.08  ...         2.3333            164200.0\n",
              "4     -118.24     33.98  ...         2.2054            125000.0\n",
              "5     -119.12     35.85  ...         2.4167             58300.0\n",
              "6     -121.93     37.25  ...         4.6900            252600.0\n",
              "7     -117.99     33.81  ...         2.2000            153100.0\n",
              "8     -122.59     38.01  ...         6.1724            414300.0\n",
              "9     -122.15     37.75  ...         3.8913            126300.0\n",
              "10    -121.37     38.68  ...         3.1786             83400.0\n",
              "11    -118.16     34.07  ...         3.8644            241500.0\n",
              "\n",
              "[12 rows x 9 columns]"
            ]
          },
          "metadata": {},
          "execution_count": 24
        }
      ]
    }
  ]
}